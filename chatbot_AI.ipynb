{
 "cells": [
  {
   "cell_type": "code",
   "execution_count": 1,
   "metadata": {},
   "outputs": [
    {
     "name": "stdout",
     "output_type": "stream",
     "text": [
      "YOU : hi\n",
      "BOT : Hi! Yay,I have a new friend! \n"
     ]
    }
   ],
   "source": [
    "import time\n",
    "import re\n",
    "import random\n",
    "\n",
    "bot_template = \"BOT : {0}\"\n",
    "user_template = \"YOU : {0}\"\n",
    "\n",
    "def respond(message):\n",
    "    bot_message = \"Hi! Yay,I have a new friend! \"\n",
    "    return bot_message\n",
    "\n",
    "# Define a function that sends a message to the bot: send_message\n",
    "def send_message(message):\n",
    "    print(user_template.format(message))\n",
    "    response = respond(message)\n",
    "    print(bot_template.format(response))\n",
    "\n",
    "# sending the first message\n",
    "send_message(\"hi\")"
   ]
  },
  {
   "cell_type": "code",
   "execution_count": 2,
   "metadata": {},
   "outputs": [
    {
     "name": "stdout",
     "output_type": "stream",
     "text": [
      "('Why do you want {0}', 'pizza')\n",
      "('Ill have to do more research on {0}', 'space')\n"
     ]
    }
   ],
   "source": [
    "rules ={'I want (.*)': ['What would it mean if you got {0}',\n",
    "  'Why do you want {0}',\n",
    "  \"What's stopping you from getting {0}\"],\n",
    "        \n",
    " 'do you remember (.*)': ['Did you think I would forget {0}',\n",
    "  \"Why haven't you been able to forget {0}\",\n",
    "  'What about {0}',\n",
    "  'Yes .. and?'],\n",
    "        \n",
    " 'do you think (.*)': ['if {0}? Absolutely.', 'No chance'],\n",
    "        \n",
    " 'if (.*)': [\"Do you really think it's likely that {0}\",\n",
    "  'Do you wish that {0}',\n",
    "  'What do you think about {0}',\n",
    "  'Really--if {0}'],\n",
    "        \n",
    " 'Am I (.*)': ['you are great!', 'youre so {0}', 'you are what you think you are'],\n",
    "        \n",
    "'What do you think of (.*)' :['Ill have to do more research on {0}','{0} is SUCH an interesting topic!!!' ],\n",
    "\n",
    "     \n",
    "       }\n",
    "\n",
    "def match_rule(rules, message):\n",
    "    response, phrase = \"default\", None\n",
    "    for pattern,responses in rules.items():\n",
    "        match = re.search(pattern,message)\n",
    "        if match is not None:\n",
    "            response = random.choice(responses)\n",
    "            if '{0}' in response:\n",
    "                phrase = match.group(1)\n",
    "    return response, phrase\n",
    "\n",
    "#testing\n",
    "print(match_rule(rules, \"I want pizza\"))\n",
    "print(match_rule(rules, \"What do you think of space\"))"
   ]
  },
  {
   "cell_type": "code",
   "execution_count": 3,
   "metadata": {},
   "outputs": [
    {
     "name": "stdout",
     "output_type": "stream",
     "text": [
      "your name is taima\n"
     ]
    }
   ],
   "source": [
    "#function for pronouns\n",
    "def replace_pronouns(message):\n",
    "\n",
    "    message = message.lower()\n",
    "    #space is added so when you say \"My name is..\" bot doesnt switch the me in name.\n",
    "    if ' me' in message:\n",
    "        return re.sub(\"me\",\"you\",message)\n",
    "    if 'my' in message:\n",
    "        return re.sub(\"my\",\"your\",message)\n",
    "    if 'your' in message:\n",
    "        return re.sub(\"your\",\"my\",message)\n",
    "    if 'you' in message:\n",
    "        return re.sub(\"you\",\"me\",message)\n",
    "\n",
    "    return message\n",
    "\n",
    "print(replace_pronouns(\"my name is Taima\"))"
   ]
  },
  {
   "cell_type": "code",
   "execution_count": 4,
   "metadata": {},
   "outputs": [
    {
     "name": "stdout",
     "output_type": "stream",
     "text": [
      "YOU : Am I cool\n",
      "BOT : you are great!\n",
      "YOU : What do you think of space\n",
      "BOT : space is SUCH an interesting topic!!!\n"
     ]
    }
   ],
   "source": [
    "#this section will test the previous functions as well as creates a respond function\n",
    "def respond(message):\n",
    "    response,phrase = match_rule(rules,message)\n",
    "    if '{0}' in response:\n",
    "        phrase = replace_pronouns(phrase)\n",
    "        response = response.format(phrase)\n",
    "    return response\n",
    "\n",
    "send_message(\"Am I cool\")\n",
    "send_message(\"What do you think of space\")"
   ]
  },
  {
   "cell_type": "code",
   "execution_count": 5,
   "metadata": {},
   "outputs": [
    {
     "name": "stdout",
     "output_type": "stream",
     "text": [
      "{'goodbye': re.compile('bye|see ya!'), 'greet': re.compile('hello|hi|hey|hola|salam'), 'thankyou': re.compile('thanks|thank you!|thank you')}\n"
     ]
    }
   ],
   "source": [
    "patterns = {}\n",
    "\n",
    "keywords= {'goodbye': ['bye', 'see ya!'],\n",
    " 'greet': ['hello', 'hi', 'hey','hola', 'salam'],\n",
    " 'thankyou': ['thanks', 'thank you!','thank you']}\n",
    "\n",
    "responses={'default': 'default message',\n",
    " 'goodbye': 'bye!',\n",
    " 'greet': 'Hello! :)',\n",
    " 'thankyou': 'you are very welcome'}\n",
    "\n",
    "for intent,keys in keywords.items():\n",
    "    patterns[intent] = re.compile('|'.join(keys)) \n",
    "print(patterns)\n",
    "\n",
    "\n",
    "\n",
    "def match_intent(message):\n",
    "    matched_intent = None\n",
    "    for intent, pattern in patterns.items():\n",
    "        #checks patterns in message \n",
    "        if re.search(pattern,message):\n",
    "            matched_intent = intent\n",
    "    return matched_intent"
   ]
  },
  {
   "cell_type": "code",
   "execution_count": 6,
   "metadata": {},
   "outputs": [
    {
     "name": "stdout",
     "output_type": "stream",
     "text": [
      "YOU : hello! What's up?\n",
      "BOT : Hello! :)\n",
      "YOU : thank you\n",
      "BOT : you are very welcome\n"
     ]
    }
   ],
   "source": [
    "#testing and sendi\n",
    "def respond(message):\n",
    "    intent = match_intent(message)\n",
    "    key = \"default\"\n",
    "    if intent in responses:\n",
    "        key = intent\n",
    "    return responses[key]\n",
    "\n",
    "send_message(\"hello! What's up?\")\n",
    "send_message(\"thank you\")"
   ]
  },
  {
   "cell_type": "code",
   "execution_count": 7,
   "metadata": {},
   "outputs": [
    {
     "name": "stdout",
     "output_type": "stream",
     "text": [
      "YOU : my name is Zaire\n",
      "BOT : Hello, Zaire!\n",
      "YOU : call me Z\n",
      "BOT : Hello, Z!\n"
     ]
    }
   ],
   "source": [
    "def find_name(message):\n",
    "    name = None\n",
    "    name_keyword = re.compile(\"name|call\")\n",
    "    #this is for finding capitalized words\n",
    "    name_pattern = re.compile(r\"\\b[A-Z]{1,1}[a-z]*\\b\")\n",
    "    if name_keyword.search(message):\n",
    "        #matching words go to the string\n",
    "        name_words = name_pattern.findall(message)\n",
    "        if len(name_words) > 0:\n",
    "            name = ' '.join(name_words)\n",
    "    return name\n",
    "\n",
    "\n",
    "def respond(message):\n",
    "    name = find_name(message)\n",
    "    if name is None:\n",
    "        return \"Hi there!\"\n",
    "    else:\n",
    "        return \"Hello, {0}!\".format(name)\n",
    "\n",
    "send_message(\"my name is Zaire\")\n",
    "send_message(\"call me Z\")"
   ]
  },
  {
   "cell_type": "code",
   "execution_count": null,
   "metadata": {},
   "outputs": [],
   "source": []
  }
 ],
 "metadata": {
  "kernelspec": {
   "display_name": "Python 3",
   "language": "python",
   "name": "python3"
  },
  "language_info": {
   "codemirror_mode": {
    "name": "ipython",
    "version": 3
   },
   "file_extension": ".py",
   "mimetype": "text/x-python",
   "name": "python",
   "nbconvert_exporter": "python",
   "pygments_lexer": "ipython3",
   "version": "3.6.6"
  }
 },
 "nbformat": 4,
 "nbformat_minor": 2
}
